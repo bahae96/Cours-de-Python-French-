{
 "cells": [
  {
   "cell_type": "markdown",
   "metadata": {},
   "source": [
    "# Chapitre 3: Les conteneurs standards\n",
    "Les conteneurs standards sont utilisees pour regrouper des objets ensemble.\n",
    "## 1- Les listes:\n",
    "Une \"list\" est une \"liste\" d'objets de n'importe quel type !"
   ]
  },
  {
   "cell_type": "code",
   "execution_count": 1,
   "metadata": {},
   "outputs": [],
   "source": [
    "L = ['a', 20.0, 5]\n",
    "M = [3, ['a', -3.0, 5]]"
   ]
  },
  {
   "cell_type": "markdown",
   "metadata": {},
   "source": [
    "Les objets d'une liste sont indexes par des indices entiers naturels, le premier objet ou element d'une liste a pour indice \"0\".\n",
    "Si on veut commencer de la fin de la liste, on utilise l'indexation inverse, le dernier element est indexe par \"-1\".\n",
    "- Exemple:"
   ]
  },
  {
   "cell_type": "code",
   "execution_count": 2,
   "metadata": {},
   "outputs": [
    {
     "name": "stdout",
     "output_type": "stream",
     "text": [
      "a   20.0   5\n"
     ]
    }
   ],
   "source": [
    "print(L[0], \" \", L[1], \" \", L[2])"
   ]
  },
  {
   "cell_type": "markdown",
   "metadata": {},
   "source": [
    "Dans une liste contenant une liste comme c'est le cas pour M, on utilise l'indexation multiple pour indexer les elements de la sous-liste !\n",
    "- Exemple:"
   ]
  },
  {
   "cell_type": "code",
   "execution_count": 3,
   "metadata": {},
   "outputs": [
    {
     "name": "stdout",
     "output_type": "stream",
     "text": [
      "['a', -3.0, 5]\n",
      "a\n"
     ]
    }
   ],
   "source": [
    "print(M[1]) # C'est une liste\n",
    "print(M[1][0]) # Acces au premier element de la sous liste"
   ]
  },
  {
   "cell_type": "markdown",
   "metadata": {},
   "source": [
    "- Une liste contenant uniquement des entiers ordonnes est generee facilement:"
   ]
  },
  {
   "cell_type": "code",
   "execution_count": 6,
   "metadata": {},
   "outputs": [
    {
     "name": "stdout",
     "output_type": "stream",
     "text": [
      "[-8, -6, -4, -2, 0, 2, 4, 6, 8]\n"
     ]
    }
   ],
   "source": [
    "L = list(range(-8, 10, 2))\n",
    "print(L)"
   ]
  },
  {
   "cell_type": "markdown",
   "metadata": {},
   "source": [
    "- La commande $len()$ retourne la longueur d'une liste:"
   ]
  },
  {
   "cell_type": "code",
   "execution_count": 7,
   "metadata": {},
   "outputs": [
    {
     "name": "stdout",
     "output_type": "stream",
     "text": [
      "9\n"
     ]
    }
   ],
   "source": [
    "print(len(L))"
   ]
  },
  {
   "cell_type": "markdown",
   "metadata": {},
   "source": [
    "### 1.1- Le decoupage (slicing)\n",
    "Decouper une liste entre un indice \"i\" et un autre \"j\" cree une liste qui commence en \"i\" et se termine en \"j-1\".\n",
    "- Exemple:"
   ]
  },
  {
   "cell_type": "code",
   "execution_count": 1,
   "metadata": {},
   "outputs": [
    {
     "data": {
      "image/png": "[encoded data removed]",
      "text/plain": [
       "<IPython.core.display.Image object>"
      ]
     },
     "execution_count": 1,
     "metadata": {},
     "output_type": "execute_result"
    }
   ],
   "source": [
    "from IPython.display import Image\n",
    "Image(\"/home/mouloud/Desktop/Doctorat/Modelisation/Cours_Complet_Jupyter/Figures/Fig6.png\")"
   ]
  },
  {
   "cell_type": "markdown",
   "metadata": {},
   "source": [
    "- Exemples:"
   ]
  },
  {
   "cell_type": "code",
   "execution_count": 2,
   "metadata": {},
   "outputs": [
    {
     "name": "stdout",
     "output_type": "stream",
     "text": [
      "7\n"
     ]
    }
   ],
   "source": [
    "# La liste qu'on utilisera\n",
    "Liste = [1, 2, 3, \"c\", [1, 4], 5.6, 2.45e-3]\n",
    "print(len(Liste))"
   ]
  },
  {
   "cell_type": "code",
   "execution_count": 6,
   "metadata": {},
   "outputs": [
    {
     "name": "stdout",
     "output_type": "stream",
     "text": [
      "[3, 'c', [1, 4], 5.6, 0.00245]\n"
     ]
    }
   ],
   "source": [
    "# Recuperer la liste a partir de son 3e element:\n",
    "# Le 3 element porte l'indice 2 donc:\n",
    "Liste_1 = Liste[2:] # Stocke la liste ' Liste' a partir du second indice dans Liste_1\n",
    "print(Liste_1)"
   ]
  },
  {
   "cell_type": "code",
   "execution_count": 11,
   "metadata": {},
   "outputs": [
    {
     "name": "stdout",
     "output_type": "stream",
     "text": [
      "[3, 'c', [1, 4], 5.6]\n"
     ]
    }
   ],
   "source": [
    "# Recuperer la liste entre les indices 2 et 5 (Derniere borne comprise): \n",
    "Liste_2 = Liste[2:6]\n",
    "print(Liste_2)"
   ]
  },
  {
   "cell_type": "code",
   "execution_count": 12,
   "metadata": {},
   "outputs": [
    {
     "name": "stdout",
     "output_type": "stream",
     "text": [
      "[3, 'c', [1, 4], 5.6]\n"
     ]
    }
   ],
   "source": [
    "# Recuperer la liste jusqu'a l'avant dernier element\n",
    "Liste_3 = Liste[2:-1] \n",
    "print(Liste_3)"
   ]
  },
  {
   "cell_type": "code",
   "execution_count": 15,
   "metadata": {},
   "outputs": [
    {
     "name": "stdout",
     "output_type": "stream",
     "text": [
      "[1, 2, 3, 'c', [1, 4], 5.6]\n"
     ]
    }
   ],
   "source": [
    "# Liste complete\n",
    "Liste_4 = Liste[:-1]   # equivalente a (Liste) tout court ou Liste[0:-1] ou Liste[0:len(Liste)+1].\n",
    "print(Liste_4)"
   ]
  },
  {
   "cell_type": "code",
   "execution_count": 16,
   "metadata": {},
   "outputs": [
    {
     "name": "stdout",
     "output_type": "stream",
     "text": [
      "[1, 2, 3, 'c', [1, 4]]\n"
     ]
    }
   ],
   "source": [
    "# Liste complete\n",
    "Liste_5 = Liste[:-2]   # Jusqu'a \n",
    "print(Liste_5)"
   ]
  },
  {
   "cell_type": "markdown",
   "metadata": {},
   "source": [
    "### 1.2- \"Les strides\"\n",
    "Quand on effectue des \"slices\", on peut aussi specifier des \"strides\" qui sont tout simplement la longueur du pas d'un indice a un autre ! Le stride par defaut est egal a 1.\n",
    "- Exemple:"
   ]
  },
  {
   "cell_type": "code",
   "execution_count": 3,
   "metadata": {},
   "outputs": [
    {
     "name": "stdout",
     "output_type": "stream",
     "text": [
      "[0, 1, 2, 3, 4, 5, 6, 7, 8, 9, 10, 11, 12, 13, 14, 15, 16, 17, 18, 19, 20, 21, 22, 23, 24, 25, 26, 27, 28, 29, 30, 31, 32, 33, 34, 35, 36, 37, 38, 39, 40, 41, 42, 43, 44, 45, 46, 47, 48, 49, 50, 51, 52, 53, 54, 55, 56, 57, 58, 59, 60, 61, 62, 63, 64, 65, 66, 67, 68, 69, 70, 71, 72, 73, 74, 75, 76, 77, 78, 79, 80, 81, 82, 83, 84, 85, 86, 87, 88, 89, 90, 91, 92, 93, 94, 95, 96, 97, 98, 99]\n"
     ]
    }
   ],
   "source": [
    "L = list(range(100))\n",
    "print(L)"
   ]
  },
  {
   "cell_type": "code",
   "execution_count": 5,
   "metadata": {},
   "outputs": [
    {
     "data": {
      "text/plain": [
       "[0, 2, 4, 6, 8]"
      ]
     },
     "execution_count": 5,
     "metadata": {},
     "output_type": "execute_result"
    }
   ],
   "source": [
    "L[:10:2]  #[0, 2, 4, 6, 8]"
   ]
  },
  {
   "cell_type": "code",
   "execution_count": 7,
   "metadata": {},
   "outputs": [
    {
     "data": {
      "text/plain": [
       "[0, 20, 40, 60, 80]"
      ]
     },
     "execution_count": 7,
     "metadata": {},
     "output_type": "execute_result"
    }
   ],
   "source": [
    "L[::20]  #[0, 20, 40, 60, 80]"
   ]
  },
  {
   "cell_type": "code",
   "execution_count": 8,
   "metadata": {},
   "outputs": [
    {
     "data": {
      "text/plain": [
       "[10, 13, 16, 19]"
      ]
     },
     "execution_count": 8,
     "metadata": {},
     "output_type": "execute_result"
    }
   ],
   "source": [
    "L[10:20:3] #[10, 13, 16, 19]"
   ]
  },
  {
   "cell_type": "markdown",
   "metadata": {},
   "source": [
    "Un stride peut aussi etre negatif ce qui correspond a des pas en arriere:"
   ]
  },
  {
   "cell_type": "code",
   "execution_count": 10,
   "metadata": {},
   "outputs": [
    {
     "data": {
      "text/plain": [
       "[20, 17, 14, 11]"
      ]
     },
     "execution_count": 10,
     "metadata": {},
     "output_type": "execute_result"
    }
   ],
   "source": [
    "L[20:10:-3] #[20, 17, 14, 11]"
   ]
  },
  {
   "cell_type": "markdown",
   "metadata": {},
   "source": [
    "Comme ca on peut faire des renversements de listes:"
   ]
  },
  {
   "cell_type": "code",
   "execution_count": 13,
   "metadata": {},
   "outputs": [],
   "source": [
    "L = [1, 2, 3]"
   ]
  },
  {
   "cell_type": "code",
   "execution_count": 14,
   "metadata": {},
   "outputs": [
    {
     "name": "stdout",
     "output_type": "stream",
     "text": [
      "[3, 2, 1]\n"
     ]
    }
   ],
   "source": [
    "R = L[::-1]\n",
    "print(R)"
   ]
  },
  {
   "cell_type": "markdown",
   "metadata": {},
   "source": [
    "### 1.3- Modification de listes:\n",
    "Des operations typiques sur les listes sont l'insertion, la suppression et la concatenation de listes.\n",
    "- Exemple:"
   ]
  },
  {
   "cell_type": "code",
   "execution_count": 17,
   "metadata": {},
   "outputs": [
    {
     "name": "stdout",
     "output_type": "stream",
     "text": [
      "['a', 4, 84, 49]\n"
     ]
    }
   ],
   "source": [
    "L = ['a', 4, 77, 84, 49]\n",
    "# Suppression de l'element d'indice \"2\" de la liste:\n",
    "L[2:3] = []\n",
    "print(L)"
   ]
  },
  {
   "cell_type": "code",
   "execution_count": 18,
   "metadata": {},
   "outputs": [
    {
     "name": "stdout",
     "output_type": "stream",
     "text": [
      "['a', 4, 77, 84]\n"
     ]
    }
   ],
   "source": [
    "L = ['a', 4, 77, 84, 49, 87, 12, 498, 98, 14, \"b\", \"z\", \"sigma\"]\n",
    "# Suppression a partir de l'indice 4 (4 inclus)\n",
    "L[4:] = []\n",
    "print(L)"
   ]
  },
  {
   "cell_type": "markdown",
   "metadata": {},
   "source": [
    "- Insertion"
   ]
  },
  {
   "cell_type": "code",
   "execution_count": 21,
   "metadata": {},
   "outputs": [
    {
     "name": "stdout",
     "output_type": "stream",
     "text": [
      "['a', 1000, 2000, 3000, 4000, 24, 15, 17, 19]\n"
     ]
    }
   ],
   "source": [
    "L = ['a', 24, 15, 17, 19]\n",
    "L[1:1] = [1000, 2000, 3000, 4000] # Insertion d'une liste a partir de \n",
    "                                  # l'indice numero 1\n",
    "print(L)"
   ]
  },
  {
   "cell_type": "markdown",
   "metadata": {},
   "source": [
    "- Concatenation: La concatenation des listes est effectuee par l'operateur d'addition (+)"
   ]
  },
  {
   "cell_type": "code",
   "execution_count": 29,
   "metadata": {},
   "outputs": [
    {
     "name": "stdout",
     "output_type": "stream",
     "text": [
      "\n",
      "L =  [1, 2] \n",
      "M =  [10, 20] \n",
      "X =  [1, 2, 10, 20] \n",
      "\n"
     ]
    }
   ],
   "source": [
    "L = [1, 2]\n",
    "M = [10, 20]\n",
    "X = L + M\n",
    "print(\"\\nL = \", L, \"\\nM = \", M, \"\\nX = \", X, \"\\n\")"
   ]
  },
  {
   "cell_type": "markdown",
   "metadata": {},
   "source": [
    "- La concatenation d'une liste avec elle meme $n$ fois est effectuee par le billet de la multiplication par un scalaire"
   ]
  },
  {
   "cell_type": "code",
   "execution_count": 32,
   "metadata": {},
   "outputs": [
    {
     "name": "stdout",
     "output_type": "stream",
     "text": [
      "[1, 2, 'FIN', 1, 2, 'FIN']\n"
     ]
    }
   ],
   "source": [
    "n = 2\n",
    "L = [1, 2, \"FIN\"]\n",
    "M = L * n\n",
    "print(M)"
   ]
  },
  {
   "cell_type": "markdown",
   "metadata": {},
   "source": [
    "- Exemple: Inititaliser un vecteur a N composantes a '$0$'"
   ]
  },
  {
   "cell_type": "code",
   "execution_count": 34,
   "metadata": {},
   "outputs": [
    {
     "name": "stdout",
     "output_type": "stream",
     "text": [
      "[0]\n",
      "[0, 0, 0, 0, 0, 0, 0, 0, 0, 0]\n"
     ]
    }
   ],
   "source": [
    "N = 10\n",
    "Vecteur = [0]\n",
    "print(Vecteur)\n",
    "Vecteur = Vecteur * N\n",
    "print(Vecteur)"
   ]
  },
  {
   "cell_type": "markdown",
   "metadata": {},
   "source": [
    "- Remarque:\n",
    "Il n'existe pas des operations qui sont importantes telque la sommation par element ou la multiplication par un scalaire de tout les elements etc... dans les listes. Pour cela, on est dans l'obligation d'utiliser les \"arrays\" dans la plupart des applications en physique."
   ]
  },
  {
   "cell_type": "markdown",
   "metadata": {},
   "source": [
    "- Appartenance: On peut se poser la question si un element existe ou pas dans une liste, pour cela, PYTHON nous offre \"in\" et \"not in\" pour verifier si un element se trouve ou pas dans une liste:"
   ]
  },
  {
   "cell_type": "code",
   "execution_count": 35,
   "metadata": {},
   "outputs": [
    {
     "data": {
      "text/plain": [
       "True"
      ]
     },
     "execution_count": 35,
     "metadata": {},
     "output_type": "execute_result"
    }
   ],
   "source": [
    "L = ['a', 1, 'b', 2]\n",
    "\"a\" in L"
   ]
  },
  {
   "cell_type": "code",
   "execution_count": 36,
   "metadata": {},
   "outputs": [
    {
     "data": {
      "text/plain": [
       "True"
      ]
     },
     "execution_count": 36,
     "metadata": {},
     "output_type": "execute_result"
    }
   ],
   "source": [
    "2 in L"
   ]
  },
  {
   "cell_type": "code",
   "execution_count": 37,
   "metadata": {},
   "outputs": [
    {
     "data": {
      "text/plain": [
       "False"
      ]
     },
     "execution_count": 37,
     "metadata": {},
     "output_type": "execute_result"
    }
   ],
   "source": [
    "2 not in L"
   ]
  },
  {
   "cell_type": "code",
   "execution_count": 38,
   "metadata": {},
   "outputs": [
    {
     "data": {
      "text/plain": [
       "False"
      ]
     },
     "execution_count": 38,
     "metadata": {},
     "output_type": "execute_result"
    }
   ],
   "source": [
    "4 in L"
   ]
  },
  {
   "cell_type": "code",
   "execution_count": 39,
   "metadata": {},
   "outputs": [
    {
     "data": {
      "text/plain": [
       "True"
      ]
     },
     "execution_count": 39,
     "metadata": {},
     "output_type": "execute_result"
    }
   ],
   "source": [
    "4 not in L"
   ]
  },
  {
   "cell_type": "markdown",
   "metadata": {},
   "source": [
    "### 1.4- Methodes sur les listes:"
   ]
  },
  {
   "cell_type": "code",
   "execution_count": 1,
   "metadata": {},
   "outputs": [
    {
     "data": {
      "image/png": "[encoded data removed]",
      "text/plain": [
       "<IPython.core.display.Image object>"
      ]
     },
     "execution_count": 1,
     "metadata": {},
     "output_type": "execute_result"
    }
   ],
   "source": [
    "from IPython.display import Image\n",
    "Image(\"/home/mouloud/Desktop/Doctorat/Modelisation/Cours_Complet_Jupyter/Figures/Fig7.png\")"
   ]
  },
  {
   "cell_type": "markdown",
   "metadata": {},
   "source": [
    "- Exemples:"
   ]
  },
  {
   "cell_type": "code",
   "execution_count": 56,
   "metadata": {},
   "outputs": [
    {
     "name": "stdout",
     "output_type": "stream",
     "text": [
      "[1, 2, 5]\n",
      "[1, 2, 5, 20, 30]\n",
      "[1, 2, 100, 5, 20, 30]\n",
      "[1, 2, 100, 5, 30]\n",
      "1\n",
      "[1, 2, 5, 30, 100]\n",
      "[100, 30, 5, 2, 1]\n",
      "[100, 30, 5, 2]\n"
     ]
    }
   ],
   "source": [
    "Liste1 = [1, 2]\n",
    "Liste1.append(5)\n",
    "print(Liste1)\n",
    "L = [20, 30]\n",
    "Liste1.extend(L)  # Cette methode remplace expand en PYTHON 3\n",
    "print(Liste1)\n",
    "Liste1.insert(2, 100) # inserer \"x\" dans la case d'indice \"i\"\n",
    "print(Liste1)\n",
    "Liste1.remove(20) # Enlever un element\n",
    "print(Liste1)\n",
    "nb = Liste1.count(100) # Compter le nombre d'occurences de '100'\n",
    "print(nb)\n",
    "Liste1.sort()\n",
    "print(Liste1) # Rearranger la liste\n",
    "Liste1.reverse() # Renversement des elements\n",
    "print(Liste1)\n",
    "Liste1.pop()  # Enlever le dernier element de la liste\n",
    "print(Liste1)"
   ]
  },
  {
   "cell_type": "markdown",
   "metadata": {},
   "source": [
    "### 1.5- Fusionner des listes:"
   ]
  },
  {
   "cell_type": "markdown",
   "metadata": {},
   "source": [
    "Une fonction de grande importance dans la manipulation des listes et la fonction \"zip\". Par cette fonction, on fusionne deux listes distinctes en une seule nouvelle liste en appariant les elements des listes initiales ! Le resultat est donc une liste de \"tuples\". Les tuples sont des types de conteneurs aussi qu'on verra plus bas.\n",
    "\n",
    "- Remarque:\n",
    "Si les deux listes ne sont pas de meme taille, alors la fusion prendra la taille de la plus petite liste."
   ]
  },
  {
   "cell_type": "code",
   "execution_count": 62,
   "metadata": {},
   "outputs": [
    {
     "name": "stdout",
     "output_type": "stream",
     "text": [
      "[('a', 1), ('b', 2), ('c', 3), ('d', 4)]\n"
     ]
    }
   ],
   "source": [
    "L1 = [1, 2, 3, 4, 5] \n",
    "L2 = ['a', 'b', 'c', 'd']\n",
    "L = list(zip(L2, L1))\n",
    "print(L)               # Le 5 disparaitera"
   ]
  },
  {
   "cell_type": "markdown",
   "metadata": {},
   "source": [
    "- Remarque: Etant donnee une liste L1 de nombres quelconques, on voudrait creer une liste L2 qui nous genere le cube de chaque element de la liste L1. On pourrait pour cela utiliser une boucle, mais il existe deux meilleurs facons:"
   ]
  },
  {
   "cell_type": "code",
   "execution_count": 66,
   "metadata": {},
   "outputs": [
    {
     "name": "stdout",
     "output_type": "stream",
     "text": [
      "\n",
      "L1 = [1, 2, 3, 4] \n",
      "L2 = [1, 8, 27, 64]\n"
     ]
    }
   ],
   "source": [
    "L1 = [1, 2, 3, 4] # Liste initiale\n",
    "L2 = []\n",
    "for element in L1:\n",
    "    element = element**3\n",
    "    L2.append(element)\n",
    "print(\"\\nL1 =\", L1, \"\\nL2 =\", L2)"
   ]
  },
  {
   "cell_type": "markdown",
   "metadata": {},
   "source": [
    "- La meilleur facon:"
   ]
  },
  {
   "cell_type": "code",
   "execution_count": 68,
   "metadata": {},
   "outputs": [
    {
     "name": "stdout",
     "output_type": "stream",
     "text": [
      "\n",
      "L1 = [1, 2, 3, 4] \n",
      "L2 = [1, 8, 27, 64]\n"
     ]
    }
   ],
   "source": [
    "L1 = [1, 2, 3, 4]\n",
    "L2 = [x**3 for x in L1]\n",
    "print(\"\\nL1 =\", L1, \"\\nL2 =\", L2)"
   ]
  },
  {
   "cell_type": "markdown",
   "metadata": {},
   "source": [
    "- Remarque: Cette facon de faire peut etre elargie:\n",
    "On voudrait par exemple multiplier par 2 les nombres compris entre 4 et 10 seulement !"
   ]
  },
  {
   "cell_type": "code",
   "execution_count": 72,
   "metadata": {},
   "outputs": [
    {
     "name": "stdout",
     "output_type": "stream",
     "text": [
      "L1 = [0, 1, 2, 3, 4, 5, 6, 7, 8, 9]\n",
      "[8, 10, 12, 14, 16, 18]\n"
     ]
    }
   ],
   "source": [
    "L1 = list(range(10))\n",
    "print(\"L1 =\", L1)\n",
    "L2 = [x*2 for x in L1 if 4 <= x <= 10]\n",
    "print(L2)"
   ]
  },
  {
   "cell_type": "markdown",
   "metadata": {},
   "source": [
    "## 2- Les Arrays:"
   ]
  },
  {
   "cell_type": "markdown",
   "metadata": {},
   "source": [
    "Le module \"NumPy\" offre une strucuture dite: \"NumPy arrays\", qui sont des structures de conteneurs pour manipuler les vecteurs, les matrices ou les tenseurs! Dans cette partie, on va presenter les similarites entre les listes et les arrays, alors que les details sur les NumPy arrays seront donnes dans les deux chapitres qui suiveront. \n",
    "\n",
    "On construit des arrays a partir des listes par la fonction array. Cette fonction est offerte par le module NumPy.\n",
    "\n",
    "- Exemple: Generer une grille uni-dimensionelle:"
   ]
  },
  {
   "cell_type": "code",
   "execution_count": 4,
   "metadata": {},
   "outputs": [
    {
     "data": {
      "image/png": "[encoded data removed]",
      "text/plain": [
       "<IPython.core.display.Image object>"
      ]
     },
     "execution_count": 4,
     "metadata": {},
     "output_type": "execute_result"
    }
   ],
   "source": [
    "from IPython.display import Image\n",
    "Image(\"/home/mouloud/Desktop/Doctorat/Modelisation/Cours_Complet_Jupyter/Figures/Fig8.png\")"
   ]
  },
  {
   "cell_type": "markdown",
   "metadata": {},
   "source": [
    "Soit\n",
    "\\begin{equation}\n",
    "D = [a,b] \\hspace{1 cm} \\text{Le Domaine qu'on souhaite discretiser}  \n",
    "\\end{equation}\n",
    "\n",
    "Si on voulait \"N\" intervalles, on aura besoin d'un pas de $h = \\frac{b-a}{N}$."
   ]
  },
  {
   "cell_type": "code",
   "execution_count": 14,
   "metadata": {},
   "outputs": [
    {
     "name": "stdout",
     "output_type": "stream",
     "text": [
      "<class 'list'>\n",
      "<class 'numpy.ndarray'>\n"
     ]
    }
   ],
   "source": [
    "from numpy import array\n",
    "D = array([0,1])\n",
    "N = 100\n",
    "dx = (D[1] - D[0])/N\n",
    "x = [i*dx for i in range(N+1)]\n",
    "print(type(x))\n",
    "x = array(x)\n",
    "print(type(x))"
   ]
  },
  {
   "cell_type": "code",
   "execution_count": 15,
   "metadata": {},
   "outputs": [
    {
     "name": "stdout",
     "output_type": "stream",
     "text": [
      "[0.   0.01 0.02 0.03 0.04 0.05 0.06 0.07 0.08 0.09 0.1  0.11 0.12 0.13\n",
      " 0.14 0.15 0.16 0.17 0.18 0.19 0.2  0.21 0.22 0.23 0.24 0.25 0.26 0.27\n",
      " 0.28 0.29 0.3  0.31 0.32 0.33 0.34 0.35 0.36 0.37 0.38 0.39 0.4  0.41\n",
      " 0.42 0.43 0.44 0.45 0.46 0.47 0.48 0.49 0.5  0.51 0.52 0.53 0.54 0.55\n",
      " 0.56 0.57 0.58 0.59 0.6  0.61 0.62 0.63 0.64 0.65 0.66 0.67 0.68 0.69\n",
      " 0.7  0.71 0.72 0.73 0.74 0.75 0.76 0.77 0.78 0.79 0.8  0.81 0.82 0.83\n",
      " 0.84 0.85 0.86 0.87 0.88 0.89 0.9  0.91 0.92 0.93 0.94 0.95 0.96 0.97\n",
      " 0.98 0.99 1.  ]\n"
     ]
    }
   ],
   "source": [
    "print(x)"
   ]
  },
  {
   "cell_type": "markdown",
   "metadata": {},
   "source": [
    "- Les matrices:"
   ]
  },
  {
   "cell_type": "code",
   "execution_count": 21,
   "metadata": {},
   "outputs": [
    {
     "name": "stdout",
     "output_type": "stream",
     "text": [
      "[[1 2 3]\n",
      " [4 5 6]\n",
      " [7 8 9]]\n"
     ]
    }
   ],
   "source": [
    "Matrice = array([[1,2,3],[4,5,6],[7,8,9]])\n",
    "print(Matrice)"
   ]
  },
  {
   "cell_type": "markdown",
   "metadata": {},
   "source": [
    "On a par cette facon cree une sorte de matrice $3\\:$x$\\:3$"
   ]
  },
  {
   "cell_type": "code",
   "execution_count": 19,
   "metadata": {},
   "outputs": [
    {
     "data": {
      "image/png": "[encoded data removed]",
      "text/plain": [
       "<IPython.core.display.Image object>"
      ]
     },
     "execution_count": 19,
     "metadata": {},
     "output_type": "execute_result"
    }
   ],
   "source": [
    "from IPython.display import Image\n",
    "Image(\"/home/mouloud/Desktop/Doctorat/Modelisation/Cours_Complet_Jupyter/Figures/Fig9.png\")"
   ]
  },
  {
   "cell_type": "markdown",
   "metadata": {},
   "source": [
    "Dans ce cas, on peut acceder facilement aux composantes de la matrice: "
   ]
  },
  {
   "cell_type": "code",
   "execution_count": 22,
   "metadata": {},
   "outputs": [
    {
     "name": "stdout",
     "output_type": "stream",
     "text": [
      "2\n",
      "6\n",
      "7\n",
      "9\n"
     ]
    }
   ],
   "source": [
    "print(Matrice[0][1]) # Le \"2\"\n",
    "print(Matrice[1][2]) # Le \"6\"\n",
    "print(Matrice[2][0]) # Le \"7\"\n",
    "print(Matrice[2][2]) # Le \"9\""
   ]
  },
  {
   "cell_type": "code",
   "execution_count": 24,
   "metadata": {},
   "outputs": [
    {
     "name": "stdout",
     "output_type": "stream",
     "text": [
      "2\n",
      "6\n",
      "7\n",
      "9\n"
     ]
    }
   ],
   "source": [
    "# Une autre ecriture equivalente et plus compacte:\n",
    "print(Matrice[0,1]) # Le \"2\"\n",
    "print(Matrice[1,2]) # Le \"6\"\n",
    "print(Matrice[2,0]) # Le \"7\"\n",
    "print(Matrice[2,2]) # Le \"9\""
   ]
  },
  {
   "cell_type": "markdown",
   "metadata": {},
   "source": [
    "- Remarque:\n",
    "Bien que les \"arrays\" sont similaires aux listes, ils sont fondamentalement differents ! On peut signaler quelques similarites et quelques differences: "
   ]
  },
  {
   "cell_type": "code",
   "execution_count": 7,
   "metadata": {},
   "outputs": [
    {
     "name": "stdout",
     "output_type": "stream",
     "text": [
      "[[1 2 3]\n",
      " [4 5 6]\n",
      " [7 8 9]]\n"
     ]
    }
   ],
   "source": [
    "from numpy import array\n",
    "# Soit la matrice suivante:\n",
    "Matrice = array([[1,2,3],[4,5,6],[7,8,9]])\n",
    "print(Matrice)"
   ]
  },
  {
   "cell_type": "code",
   "execution_count": 47,
   "metadata": {},
   "outputs": [
    {
     "ename": "SyntaxError",
     "evalue": "invalid syntax (<ipython-input-47-d179904e8e01>, line 23)",
     "output_type": "error",
     "traceback": [
      "\u001b[0;36m  File \u001b[0;32m\"<ipython-input-47-d179904e8e01>\"\u001b[0;36m, line \u001b[0;32m23\u001b[0m\n\u001b[0;31m    colonne1 =   # colonne 1\u001b[0m\n\u001b[0m                            ^\u001b[0m\n\u001b[0;31mSyntaxError\u001b[0m\u001b[0;31m:\u001b[0m invalid syntax\n"
     ]
    }
   ],
   "source": [
    "# 1- Acces a un element: Pour acceder a un element de la matrice, on utilise une syntaxe similaire a celle des listes\n",
    "# Comme c'est demontre en ce qui precede.\n",
    "\n",
    "# 2- Acces a un vecteur:\n",
    "# On voudrait par exemple acceder aux differentes lignes de la Matrice: On fait ceci comme on le fait a une liste \n",
    "# contenant des sous-listes.\n",
    "\n",
    "ligne1 = Matrice[:1][0]   # ligne 1\n",
    "print(\"ligne1 =\", ligne1)\n",
    "e1 = ligne1[0] # Element 1 du vecteur ligne1\n",
    "print(\"e1 =\", e1)\n",
    "print(type(ligne1))\n",
    "print(type(e1))\n",
    "ligne2 = Matrice[1:2][0]   # ligne 2\n",
    "print(\"ligne2 =\", ligne2)\n",
    "\n",
    "ligne3 = Matrice[2:3][0]   # ligne 3\n",
    "print(\"ligne3 =\", ligne3)\n",
    "\n",
    "# On voudrait par exemple acceder aux differentes colonnes de la Matrice: On fait ceci comme on le fait a une liste \n",
    "# contenant des sous-listes.\n",
    "\n",
    "colonne1 =   # colonne 1\n",
    "print(\"colonne1 =\", colonne1)\n",
    "\n",
    "colonne2 =   # colonne 2\n",
    "print(\"colonne2 =\", colonne2)\n",
    "\n",
    "\n",
    "colonne3 =   # colonne 3\n",
    "print(\"colonne3 =\", colonne3)\n",
    "\n",
    "# 3- Elargir un array:\n",
    "\n"
   ]
  },
  {
   "cell_type": "markdown",
   "metadata": {},
   "source": [
    "Tout ce qu'on vient de voir peut etre effectuee avec des listes simples de PYTHON, mais:\n",
    "- Les \"arrays\" stockent les elements du meme type seulement (des floats ou des complexes ou des entiers)\n",
    "- Contrairement aux listes, les operations +, -, *, et / operent differement:\n",
    "    - (+) Concatene des listes, mais effectue la sommation par element pour les arrays\n",
    "    - (-) n'oppere pas sur deux listes, mais effectue la soustraction par element pour les arrays\n",
    "    - (*) n'oppere pas sur deux listes, la multiplication d'une liste par un scalaire $\\alpha$ nous retourne une liste concatenee $\\alpha$ fois. Mais, pour un \"array\", la multiplication de deux arrays nous retourne un \"array\" dont les elements sont multiplies, et la multiplication d'un array par un scalaire nous retourne un array dont tous les elements somt multiplies par ce scalaire.\n",
    "    - L'operation division n'oppere pas sur des listes, mais elle nous retourne des divisions par elements dans le cas des \"arrays\".\n",
    "- Exemples:"
   ]
  },
  {
   "cell_type": "code",
   "execution_count": 38,
   "metadata": {},
   "outputs": [
    {
     "name": "stdout",
     "output_type": "stream",
     "text": [
      "vsom = [5 7 9]\n",
      "vmul = [ 4 10 18]\n",
      "vsous = [-3 -3 -3]\n",
      "vdiv = [0.25 0.4  0.5 ]\n"
     ]
    }
   ],
   "source": [
    "from numpy import array\n",
    "v1 = array([1, 2, 3])\n",
    "v2 = array([4, 5, 6])\n",
    "vsom = v1 + v2\n",
    "vmul = v1*v2\n",
    "vsous = v1 - v2\n",
    "vdiv = v1/v2\n",
    "print(\"vsom =\", vsom)\n",
    "print(\"vmul =\", vmul)\n",
    "print(\"vsous =\", vsous)\n",
    "print(\"vdiv =\", vdiv)"
   ]
  },
  {
   "cell_type": "code",
   "execution_count": 42,
   "metadata": {},
   "outputs": [
    {
     "name": "stdout",
     "output_type": "stream",
     "text": [
      "<class 'numpy.int64'>\n",
      "<class 'numpy.int64'>\n",
      "<class 'numpy.int64'>\n",
      "<class 'numpy.float64'>\n"
     ]
    }
   ],
   "source": [
    "# Remarque: Type des elements des arrays obtenus:\n",
    "print(type(vsom[0]))\n",
    "print(type(vmul[0]))\n",
    "print(type(vsous[0]))\n",
    "print(type(vdiv[0]))"
   ]
  },
  {
   "cell_type": "markdown",
   "metadata": {},
   "source": [
    "## 3- Les Tuples:\n",
    "- Un Tuple est une liste non-modifiable. Un tuple, tout simplement, est une sequence d'objets separes par des virgules. Pour une bonne lisibilite du code, on enferme souvent cette sequence d'objets par des virgules.\n",
    "- Exemples:"
   ]
  },
  {
   "cell_type": "code",
   "execution_count": 3,
   "metadata": {},
   "outputs": [
    {
     "name": "stdout",
     "output_type": "stream",
     "text": [
      "True\n"
     ]
    },
    {
     "data": {
      "text/plain": [
       "3"
      ]
     },
     "execution_count": 3,
     "metadata": {},
     "output_type": "execute_result"
    }
   ],
   "source": [
    "tuple1 = 1, 2, 3    # Un tuple\n",
    "tuple2 = (1, 2, 3)  # Meme Tuple\n",
    "print(tuple1 == tuple2)\n",
    "len(tuple1)"
   ]
  },
  {
   "cell_type": "code",
   "execution_count": 18,
   "metadata": {},
   "outputs": [
    {
     "ename": "TypeError",
     "evalue": "'tuple' object does not support item assignment",
     "output_type": "error",
     "traceback": [
      "\u001b[0;31m---------------------------------------------------------------------------\u001b[0m",
      "\u001b[0;31mTypeError\u001b[0m                                 Traceback (most recent call last)",
      "\u001b[0;32m<ipython-input-18-72ae43419494>\u001b[0m in \u001b[0;36m<module>\u001b[0;34m()\u001b[0m\n\u001b[1;32m      1\u001b[0m \u001b[0mtuple1\u001b[0m\u001b[0;34m[\u001b[0m\u001b[0;36m0\u001b[0m\u001b[0;34m]\u001b[0m\u001b[0;34m\u001b[0m\u001b[0;34m\u001b[0m\u001b[0m\n\u001b[0;32m----> 2\u001b[0;31m \u001b[0mtuple1\u001b[0m\u001b[0;34m[\u001b[0m\u001b[0;36m0\u001b[0m\u001b[0;34m]\u001b[0m \u001b[0;34m=\u001b[0m \u001b[0;34m\"a\"\u001b[0m \u001b[0;31m# Erreur, car les tuples sont non-modifiables\u001b[0m\u001b[0;34m\u001b[0m\u001b[0;34m\u001b[0m\u001b[0m\n\u001b[0m",
      "\u001b[0;31mTypeError\u001b[0m: 'tuple' object does not support item assignment"
     ]
    }
   ],
   "source": [
    "tuple1[0] = \"a\" # Erreur, car les tuples sont non-modifiables"
   ]
  },
  {
   "cell_type": "code",
   "execution_count": 6,
   "metadata": {},
   "outputs": [
    {
     "name": "stdout",
     "output_type": "stream",
     "text": [
      "<class 'tuple'>\n"
     ]
    }
   ],
   "source": [
    "# Un seul objet comme un tuple:\n",
    "tuple1 = \"a\", # C'est la virgule qui indique que l'objet cree est un tuple !\n",
    "print(type(tuple1))"
   ]
  },
  {
   "cell_type": "markdown",
   "metadata": {},
   "source": [
    "On peut assigner plusieurs valeurs a plusieurs variables au meme temps en utilisant des tuples ou des listes, sauf que si on voulait par exemple stocker des constantes, il vaut mieux utiliser des tuples comme ceux-ci sont non-modifiables !"
   ]
  },
  {
   "cell_type": "code",
   "execution_count": 7,
   "metadata": {},
   "outputs": [],
   "source": [
    "a, b = 0, 1\n",
    "a, b = [0, 1]\n",
    "(a, b) = 0, 1\n",
    "[a, b] = [0, 1]\n",
    "# On obtient le Meme effet"
   ]
  },
  {
   "cell_type": "code",
   "execution_count": 16,
   "metadata": {},
   "outputs": [
    {
     "name": "stdout",
     "output_type": "stream",
     "text": [
      "a = 5 \n",
      "b = chaine\n",
      "\n",
      "\tEchange\n",
      "\n",
      "a = chaine \n",
      "b = 5\n"
     ]
    }
   ],
   "source": [
    "# Astuce d'echange: \n",
    "# Soit deux valeurs \"a\" et \"b\", on veut les echanger !\n",
    "a, b = 5, \"chaine\"\n",
    "print(\"a =\", a, \"\\nb =\", b)\n",
    "print(\"\\n\\tEchange\\n\")\n",
    "a, b = b, a # Echange des deux variables\n",
    "print(\"a =\", a, \"\\nb =\", b)"
   ]
  },
  {
   "cell_type": "markdown",
   "metadata": {},
   "source": [
    "- Remarque: Pour une bonne lisibilite du programme, S.V.P, utilisez des parantheses si vous voulez utiliser des tuples."
   ]
  },
  {
   "cell_type": "markdown",
   "metadata": {},
   "source": [
    "## 3- Dictionnaires:\n",
    "Tous les types de conteneurs standards qu'on a vu jusqu'a present sont ordonnes, les dictionnaires sont des types de conteneurs qui sont desordonnes! L'acces a un objet du dictionnaire se fait par le billet d'un mot-cle.\n",
    "\n",
    "Par exemple, on peut creer un dictionnaire contenant des donnees sur une personne donnee: (Nom, prenom, age, masse ...):"
   ]
  },
  {
   "cell_type": "code",
   "execution_count": 2,
   "metadata": {},
   "outputs": [],
   "source": [
    "Personne_1 = {'nom':'Mouloud', 'prenom':'Bahae-eddine', 'age':23, 'masse': 60}\n",
    "# Personne_1 est un exemple de dictionnaires, on peut acceder a une entree par le mot-cle correspondant"
   ]
  },
  {
   "cell_type": "markdown",
   "metadata": {},
   "source": [
    "Les elements du dictionnaire sont separes par des virgules, la syntaxe d'un element d'un dictionnaire est:\n",
    "< 'mot-cle':entree >, la donnee < entree > peut etre de n'importe quel type (int, float, string, list, ...). le mot-cle est toujours compris entre deux guillemets.  \n",
    "### 3.1- Acces a une entree dans un dictionnaire"
   ]
  },
  {
   "cell_type": "code",
   "execution_count": 6,
   "metadata": {},
   "outputs": [
    {
     "name": "stdout",
     "output_type": "stream",
     "text": [
      "Mouloud   Bahae-eddine   23   60\n"
     ]
    }
   ],
   "source": [
    "# Acces a un dictionnaire: On peut acceder un dictionnaire de la meme facon qu'on fait pour les listes sauf que cette \n",
    "# fois, ce qui est compris entre crochets est le mot-cle utilise:\n",
    "\n",
    "# Acces a une entree:\n",
    "print(Personne_1[\"nom\"], \" \", Personne_1[\"prenom\"], \" \", Personne_1[\"age\"], \" \", Personne_1[\"masse\"])"
   ]
  },
  {
   "cell_type": "markdown",
   "metadata": {},
   "source": [
    "### 3.2- Ajout d'une entree a un dictionnaire\n",
    "On peut ajouter une valeur a un dictionnaire tout simplement en creant un nouveau mot cle et en affectant une entree:"
   ]
  },
  {
   "cell_type": "code",
   "execution_count": 7,
   "metadata": {},
   "outputs": [],
   "source": [
    "Personne_1['Annee de naissance'] = 1996"
   ]
  },
  {
   "cell_type": "code",
   "execution_count": 8,
   "metadata": {},
   "outputs": [
    {
     "name": "stdout",
     "output_type": "stream",
     "text": [
      "{'nom': 'Mouloud', 'prenom': 'Bahae-eddine', 'age': 23, 'masse': 60, 'Annee de naissance': 1996}\n"
     ]
    }
   ],
   "source": [
    "print(Personne_1)"
   ]
  },
  {
   "cell_type": "markdown",
   "metadata": {},
   "source": [
    "- Remarques: \n",
    "    - Les dictionnaires sont aussi utilises pour fournir des parametres a une fonction, chose qu'on peut voir dans le chapitre 7.\n",
    "    - On peut creer des dictionnaires a partir de listes de paires (mot-cle/valeur) par la commande $dict()$."
   ]
  },
  {
   "cell_type": "code",
   "execution_count": 11,
   "metadata": {},
   "outputs": [],
   "source": [
    "# Les paires cle/valeur sont des tuples tout simplement\n",
    "Liste_1 = [('nom', 'Mouloud'), ('prenom', 'Bahae-eddine'), ('age', 23), ('masse', 60), ('Annee de naissance', 1996)]\n",
    "Dico_1 = dict(Liste_1)"
   ]
  },
  {
   "cell_type": "code",
   "execution_count": 14,
   "metadata": {},
   "outputs": [
    {
     "name": "stdout",
     "output_type": "stream",
     "text": [
      "<class 'list'> <class 'dict'>\n",
      "{'nom': 'Mouloud', 'prenom': 'Bahae-eddine', 'age': 23, 'masse': 60, 'Annee de naissance': 1996}\n"
     ]
    }
   ],
   "source": [
    "print(type(Liste_1), type(Dico_1))\n",
    "print(Dico_1)"
   ]
  },
  {
   "cell_type": "markdown",
   "metadata": {},
   "source": [
    "### 3.2- Boucler sur un dictionnaire\n",
    "- Il existe principalement 3 facons de boucler sur des dictionnaires:\n",
    "    - Par mot-cle --> La methode $dict.keys()$\n",
    "    - Par valeur --> La methode $dict.values()$\n",
    "    - Par element --> La methode $dict.items()$"
   ]
  },
  {
   "cell_type": "code",
   "execution_count": 24,
   "metadata": {},
   "outputs": [
    {
     "name": "stdout",
     "output_type": "stream",
     "text": [
      "nom\n",
      "prenom\n",
      "age\n",
      "masse\n",
      "Annee de naissance\n",
      "\n",
      "\n",
      "Mouloud\n",
      "Bahae-eddine\n",
      "23\n",
      "60\n",
      "1996\n",
      "\n",
      "\n",
      "('nom', 'Mouloud')\n",
      "('prenom', 'Bahae-eddine')\n",
      "('age', 23)\n",
      "('masse', 60)\n",
      "('Annee de naissance', 1996)\n"
     ]
    }
   ],
   "source": [
    "# Par mot-cle: (keys)\n",
    "for key in Personne_1.keys():\n",
    "    print(key)\n",
    "    \n",
    "print(\"\\n\")\n",
    "\n",
    "# Par valeur: (values)\n",
    "for value in Personne_1.values():\n",
    "    print(value)    \n",
    "\n",
    "print(\"\\n\")\n",
    "    \n",
    "# Par element: (items)\n",
    "for item in Personne_1.items():\n",
    "    print(item)"
   ]
  },
  {
   "cell_type": "markdown",
   "metadata": {},
   "source": [
    "## 4- Ensembles:\n",
    "Les ensembles sont des types de conteneurs PYTHON qui partagent les memes proprietes des ensembles mathematiques.\n",
    "- Exemples mathematiques et leurs equivalents en PYTHON:\n",
    "\\begin{equation}\n",
    "A = \\{ 1, 2, 3, 4 \\},\\:\\: B = \\{ 5\\},\\:\\: C = A \\cup B,\\:\\: D = A \\cap C,\\:\\: E = C \\setminus A,\\:\\: 5 \\in C\n",
    "\\end{equation}"
   ]
  },
  {
   "cell_type": "code",
   "execution_count": 30,
   "metadata": {},
   "outputs": [
    {
     "name": "stdout",
     "output_type": "stream",
     "text": [
      "C = {1, 2, 3, 4, 5}, D = {1, 2, 3, 4}, E = {5}\n"
     ]
    }
   ],
   "source": [
    "A = {1, 2, 3, 4}\n",
    "B = {5}\n",
    "C = A.union(B)\n",
    "D = A.intersection(C)\n",
    "E = C.difference(A)\n",
    "print(\"C = {:}, D = {:}, E = {:}\".format(C, D, E))"
   ]
  },
  {
   "cell_type": "code",
   "execution_count": 31,
   "metadata": {},
   "outputs": [
    {
     "data": {
      "text/plain": [
       "True"
      ]
     },
     "execution_count": 31,
     "metadata": {},
     "output_type": "execute_result"
    }
   ],
   "source": [
    "5 in C"
   ]
  },
  {
   "cell_type": "markdown",
   "metadata": {},
   "source": [
    "- Les elements d'un ensemble se repetent une seule fois, ceci peut etre vu en PYTHON de la facon suivante: "
   ]
  },
  {
   "cell_type": "code",
   "execution_count": 34,
   "metadata": {},
   "outputs": [
    {
     "name": "stdout",
     "output_type": "stream",
     "text": [
      "True\n",
      "A = {1, 2, 3}, B = {1, 2, 3}\n"
     ]
    }
   ],
   "source": [
    "A = {1, 2, 3, 3, 3, 3}\n",
    "B = {1, 2, 3}\n",
    "print(A == B)\n",
    "print(\"A = {:}, B = {:}\".format(A, B))"
   ]
  },
  {
   "cell_type": "markdown",
   "metadata": {},
   "source": [
    "- Un ensemble n'est pas ordonne, c-a-d l'ordre des elements dans un ensemble est indefini et celui-ci se rearrange automatiquement comme il le faut mathematiquement:"
   ]
  },
  {
   "cell_type": "code",
   "execution_count": 35,
   "metadata": {},
   "outputs": [
    {
     "name": "stdout",
     "output_type": "stream",
     "text": [
      "True\n",
      "A = {1, 2, 3}, B = {1, 2, 3}\n"
     ]
    }
   ],
   "source": [
    "A = {1, 2, 3}\n",
    "B = {3, 2, 1}\n",
    "print(A == B)\n",
    "print(\"A = {:}, B = {:}\".format(A, B))"
   ]
  },
  {
   "cell_type": "markdown",
   "metadata": {},
   "source": [
    "- On peut comparer deux ensembles par les methodes issubset et issuperset:"
   ]
  },
  {
   "cell_type": "code",
   "execution_count": 38,
   "metadata": {},
   "outputs": [
    {
     "name": "stdout",
     "output_type": "stream",
     "text": [
      "True True\n"
     ]
    }
   ],
   "source": [
    "Bool_1 = {2, 4}.issubset({1, 2, 3, 4}) # True\n",
    "Bool_2 = {1, 2, 3 ,4, 5, 6}.issuperset({3,4}) # True\n",
    "print(Bool_1, Bool_2)"
   ]
  },
  {
   "cell_type": "markdown",
   "metadata": {},
   "source": [
    "- Remarque: L'ensemble vide est defini en PYTHON par $set([\\:])$ et non pas par $\\{ \\}$ qui definira un dictionnaire vide !"
   ]
  },
  {
   "cell_type": "code",
   "execution_count": 39,
   "metadata": {},
   "outputs": [
    {
     "name": "stdout",
     "output_type": "stream",
     "text": [
      "<class 'set'> <class 'dict'>\n"
     ]
    }
   ],
   "source": [
    "A = set([])\n",
    "B = {}\n",
    "print(type(A), type(B))"
   ]
  },
  {
   "cell_type": "markdown",
   "metadata": {},
   "source": [
    "## 5- Les conversions entre conteneurs:\n",
    "### 5.1- Proprietes des conteneurs:"
   ]
  },
  {
   "cell_type": "code",
   "execution_count": 43,
   "metadata": {},
   "outputs": [
    {
     "data": {
      "image/png": "[encoded data removed]",
      "text/plain": [
       "<IPython.core.display.Image object>"
      ]
     },
     "execution_count": 43,
     "metadata": {},
     "output_type": "execute_result"
    }
   ],
   "source": [
    "from IPython.display import Image\n",
    "Image(\"/home/mouloud/Desktop/Doctorat/Modelisation/Cours_Complet_Jupyter/Figures/Fig11.png\")"
   ]
  },
  {
   "cell_type": "markdown",
   "metadata": {},
   "source": [
    "### 5.2- Conversions:"
   ]
  },
  {
   "cell_type": "code",
   "execution_count": 42,
   "metadata": {},
   "outputs": [
    {
     "data": {
      "image/png": "[encoded data removed]",
      "text/plain": [
       "<IPython.core.display.Image object>"
      ]
     },
     "execution_count": 42,
     "metadata": {},
     "output_type": "execute_result"
    }
   ],
   "source": [
    "from IPython.display import Image\n",
    "Image(\"/home/mouloud/Desktop/Doctorat/Modelisation/Cours_Complet_Jupyter/Figures/Fig12.png\")"
   ]
  },
  {
   "cell_type": "code",
   "execution_count": null,
   "metadata": {},
   "outputs": [],
   "source": []
  }
 ],
 "metadata": {
  "kernelspec": {
   "display_name": "Python 3",
   "language": "python",
   "name": "python3"
  },
  "language_info": {
   "codemirror_mode": {
    "name": "ipython",
    "version": 3
   },
   "file_extension": ".py",
   "mimetype": "text/x-python",
   "name": "python",
   "nbconvert_exporter": "python",
   "pygments_lexer": "ipython3",
   "version": "3.7.3"
  }
 },
 "nbformat": 4,
 "nbformat_minor": 2
}
