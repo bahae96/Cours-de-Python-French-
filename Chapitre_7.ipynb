{
 "cells": [
  {
   "cell_type": "markdown",
   "metadata": {},
   "source": [
    "# Chapitre 7: Fonctions\n",
    "## 1- Fondaments mathematiques:\n",
    "Une fonction mathematique simple a une seule variable est definie par:\n",
    "\\begin{align*}\n",
    "f: D_f &\\rightarrow \\mathbb{R} \\\\\n",
    "    x &\\rightarrow y = f(x)\n",
    "\\end{align*}\n",
    "- Exemples:\n",
    "    - Une fonction qui associe deux nombres reels a leurs differences:\n",
    "    \\begin{align*}\n",
    "f: \\mathbb{R} \\times \\mathbb{R} &\\rightarrow \\mathbb{R} \\\\\n",
    "    (x_1, x_2) &\\rightarrow y = f(x_1, x_2) = x_1 - x_2\n",
    "\\end{align*}\n",
    "    - Une fonction peut avoir ds nombres, des vecteurs, des matrices, des fonctions, etc... comme arguments:\n",
    "\\begin{equation}\n",
    "I\\left(f, a, b\\right) = \\int_a^b f(x)\\:\\mathrm{d} x\n",
    "\\end{equation}\n",
    "La valeur de retour dans ce cas est un nombre."
   ]
  },
  {
   "cell_type": "markdown",
   "metadata": {},
   "source": [
    "Quand on travaille avec des fonctions, on devra distinguer deux differentes etapes: \n",
    "- La definition de la fonction: Qui s'effectue une seule fois\n",
    "- L'evaluation de la fonction: qui peut etre effectuee plusieurs fois et pour plusieurs arguments."
   ]
  },
  {
   "cell_type": "markdown",
   "metadata": {},
   "source": [
    "## 1- Parametres et arguments:\n",
    "Les arguments de la fonction sont les parametres d'entree utilisees pour definir la fonction.\n",
    "### 1.1- Passage des arguments - par position et par mot-cle:\n",
    "Prenons l'exemple de la fonction suivante:"
   ]
  },
  {
   "cell_type": "code",
   "execution_count": 2,
   "metadata": {},
   "outputs": [],
   "source": [
    "def soustraction(x1, x2):\n",
    "    return x1 - x2"
   ]
  },
  {
   "cell_type": "code",
   "execution_count": 4,
   "metadata": {},
   "outputs": [
    {
     "name": "stdout",
     "output_type": "stream",
     "text": [
      "e = 5\n"
     ]
    }
   ],
   "source": [
    "# Passage des arguments par position:\n",
    "z = 5\n",
    "e = soustraction(10, z)\n",
    "print(\"e = {:}\".format(e))"
   ]
  },
  {
   "cell_type": "code",
   "execution_count": 7,
   "metadata": {},
   "outputs": [
    {
     "name": "stdout",
     "output_type": "stream",
     "text": [
      "e = -5\n"
     ]
    }
   ],
   "source": [
    "# Passage des arguments par position:\n",
    "e = soustraction(z, 10)\n",
    "print(\"e = {:}\".format(e))"
   ]
  },
  {
   "cell_type": "markdown",
   "metadata": {},
   "source": [
    "Dans ce cas, le passage des arguments est clairement par ordre d'apparition de ces arguments dans la fonction qu'on a defini ! Ainsi, le resultat change qu'on on change l'ordre d'apparition. Si une fonction contient plusieurs arguments, on doit etre tres prudent dans l'assignation des arguments dans l'appel de la fonction. MAIS, si on utilise dans la definition de la fonction des noms d'arguments signifiants, on pourrai utiliser ces noms (ces mots cles) dans l'appel de la fonction.\n",
    "- Exemple:"
   ]
  },
  {
   "cell_type": "code",
   "execution_count": 8,
   "metadata": {},
   "outputs": [
    {
     "name": "stdout",
     "output_type": "stream",
     "text": [
      "e = 5\n"
     ]
    }
   ],
   "source": [
    "# Passage des arguments par mot-cle:\n",
    "e = soustraction(x2 = z, x1 = 10)\n",
    "print(\"e = {:}\".format(e))"
   ]
  },
  {
   "cell_type": "markdown",
   "metadata": {},
   "source": [
    "On remarque que le meme appel de la fonction avec le meme ordre des arguments mais avec des mots cles nous retourne le resultat souhaite !"
   ]
  },
  {
   "cell_type": "code",
   "execution_count": 9,
   "metadata": {},
   "outputs": [],
   "source": [
    "# Exemple deja fait: plt.plot(x, y, linewidth = 2, label = \"Courbe 1\") # C'est une fonction avec des arguments appelles\n",
    "# par mot-cle !"
   ]
  },
  {
   "cell_type": "code",
   "execution_count": null,
   "metadata": {},
   "outputs": [],
   "source": []
  }
 ],
 "metadata": {
  "kernelspec": {
   "display_name": "Python 3",
   "language": "python",
   "name": "python3"
  },
  "language_info": {
   "codemirror_mode": {
    "name": "ipython",
    "version": 3
   },
   "file_extension": ".py",
   "mimetype": "text/x-python",
   "name": "python",
   "nbconvert_exporter": "python",
   "pygments_lexer": "ipython3",
   "version": "3.7.3"
  }
 },
 "nbformat": 4,
 "nbformat_minor": 2
}
